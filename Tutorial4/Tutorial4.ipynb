{
  "cells": [
    {
      "cell_type": "markdown",
      "metadata": {
        "id": "O5JVa-IEwFH1"
      },
      "source": [
        "# Tutorial4: Convolutional Layers - Spectral methods"
      ]
    },
    {
      "cell_type": "markdown",
      "metadata": {
        "id": "Pr-c4aFNwFH4"
      },
      "source": [
        "## Outline"
      ]
    },
    {
      "cell_type": "markdown",
      "metadata": {
        "id": "o3AOE7x1wFH5"
      },
      "source": [
        "- Why convolution in ML\n",
        "- Some theory on convolution\n",
        "- Convolution on graphs\n",
        "- Spectral-convolutional layers in PyTorch Geometric"
      ]
    },
    {
      "cell_type": "code",
      "execution_count": null,
      "metadata": {
        "id": "nxQYJvPewFH6"
      },
      "outputs": [],
      "source": [
        "!pip install -q torch-scatter -f https://data.pyg.org/whl/torch-1.10.0+cu113.html\n",
        "!pip install -q torch-sparse -f https://data.pyg.org/whl/torch-1.10.0+cu113.html\n",
        "!pip install -q git+https://github.com/pyg-team/pytorch_geometric.git"
      ]
    },
    {
      "cell_type": "markdown",
      "metadata": {
        "id": "o_xnW1mPwFH7"
      },
      "source": [
        "## Imports"
      ]
    },
    {
      "cell_type": "code",
      "execution_count": null,
      "metadata": {
        "id": "ySmt9KFAwFH7"
      },
      "outputs": [],
      "source": [
        "import numpy as np\n",
        "import matplotlib.pyplot as plt\n",
        "plt.rcParams.update({'font.size': 16})"
      ]
    },
    {
      "cell_type": "markdown",
      "metadata": {
        "id": "mRe6Ym5gwFH8"
      },
      "source": [
        "## Why convolution in ML"
      ]
    },
    {
      "cell_type": "markdown",
      "metadata": {
        "id": "WD5mCQxgwFH9"
      },
      "source": [
        "- Weight sharing\n",
        "- Detection of translational invariant and local features"
      ]
    },
    {
      "cell_type": "markdown",
      "metadata": {
        "id": "hELqpaskwFH9"
      },
      "source": [
        "![](https://github.com/AntonioLonga/PytorchGeometricTutorial/blob/main/Tutorial4/fig/fully_connected.png?raw=1)\n",
        "[Source](https://missinglink.ai/guides/convolutional-neural-networks/fully-connected-layers-convolutional-neural-networks-complete-guide/)"
      ]
    },
    {
      "cell_type": "markdown",
      "metadata": {
        "id": "djQz-ZH1wFH-"
      },
      "source": [
        "![](https://github.com/AntonioLonga/PytorchGeometricTutorial/blob/main/Tutorial4/fig/cnn.gif?raw=1)\n",
        "[Source](https://commons.wikimedia.org/wiki/File:Convolutional_Neural_Network.gif)"
      ]
    },
    {
      "cell_type": "markdown",
      "metadata": {
        "id": "ks_E0tpJwFH_"
      },
      "source": [
        "![](https://github.com/AntonioLonga/PytorchGeometricTutorial/blob/main/Tutorial4/fig/Convolution.png?raw=1)\n",
        "[Source](https://commons.wikimedia.org/wiki/File:Convolution.PNG)"
      ]
    },
    {
      "cell_type": "markdown",
      "metadata": {
        "id": "4zbWtSNbwFH_"
      },
      "source": [
        "## Some theory on convolution"
      ]
    },
    {
      "cell_type": "markdown",
      "metadata": {
        "id": "01Xz5K5PwFH_"
      },
      "source": [
        "![](https://github.com/AntonioLonga/PytorchGeometricTutorial/blob/main/Tutorial4/fig/Convolution_of_box_signal_with_itself2.gif?raw=1)\n",
        "[Source](https://en.wikipedia.org/wiki/File:Convolution_of_box_signal_with_itself2.gif)"
      ]
    },
    {
      "cell_type": "markdown",
      "metadata": {
        "id": "0Z8w691uwFIA"
      },
      "source": [
        "### Definition"
      ]
    },
    {
      "cell_type": "markdown",
      "metadata": {
        "id": "VhPzWeRMwFIA"
      },
      "source": [
        "\\begin{align*}\n",
        "c[n] = (v * w)[n] = \\sum_{m=0}^{N-1} v[m] \\cdot w[n-m]\n",
        "\\end{align*}"
      ]
    },
    {
      "cell_type": "code",
      "execution_count": null,
      "metadata": {
        "id": "XTdk-8YGwFIA"
      },
      "outputs": [],
      "source": [
        "def conv(v, w):\n",
        "    c = np.zeros(v.shape)\n",
        "    for n in range(len(v)):\n",
        "        c[n] = 0\n",
        "        for m in range(len(v)):\n",
        "            c[n] += v[m] * w[n - m]  \n",
        "    return c"
      ]
    },
    {
      "cell_type": "code",
      "execution_count": null,
      "metadata": {
        "id": "cTDd1pkfwFIB"
      },
      "outputs": [],
      "source": [
        "N = 20\n",
        "v = np.zeros(N)\n",
        "v[8:12] = 1\n",
        "w = np.zeros(N)\n",
        "w[1:5] = 1\n",
        "c = conv(v, w)\n",
        "\n",
        "fig = plt.figure()\n",
        "ax = fig.gca()\n",
        "ax.plot(v, '.-')\n",
        "ax.plot(w, '.-')\n",
        "ax.plot(c, '.-')\n",
        "ax.legend(['v', 'w', 'c'])\n",
        "ax.grid(True)"
      ]
    },
    {
      "cell_type": "markdown",
      "metadata": {
        "id": "Dx4sekllwFIB"
      },
      "source": [
        "### Fourier transform"
      ]
    },
    {
      "cell_type": "markdown",
      "metadata": {
        "id": "e6Sfs3A6wFIB"
      },
      "source": [
        "Transformation $\\mathcal F: \\mathbb{R}^N \\to \\mathbb{R}^N$ with\n",
        "\n",
        "\\begin{align*}\n",
        "\\mathcal F^{-1}(\\mathcal F (v)) &= v\\\\\n",
        "\\mathcal F(v * w) &= \\mathcal F(v) \\cdot \\mathcal F(w).\n",
        "\\end{align*}"
      ]
    },
    {
      "cell_type": "markdown",
      "metadata": {
        "id": "G4UcJ12NwFIC"
      },
      "source": [
        "This implies\n",
        "\\begin{align*}\n",
        "v * w &= \\mathcal F^{-1}(\\mathcal F (v * w))\\\\\n",
        "&= \\mathcal F^{-1}(\\mathcal F(v) \\cdot \\mathcal F(w))\n",
        "\\end{align*}"
      ]
    },
    {
      "cell_type": "code",
      "execution_count": null,
      "metadata": {
        "id": "8IrvBVr3wFIC"
      },
      "outputs": [],
      "source": [
        "v, w = np.random.rand(N), np.random.rand(N)\n",
        "conv(v, w)"
      ]
    },
    {
      "cell_type": "code",
      "execution_count": null,
      "metadata": {
        "id": "yOJDi0dLwFIC"
      },
      "outputs": [],
      "source": [
        "from scipy.fft import fft, ifft # Fast Fourier Transform / Inverse FFT\n",
        "np.abs(ifft(fft(v) * fft(w)))"
      ]
    },
    {
      "cell_type": "markdown",
      "metadata": {
        "id": "1L1gRk5owFID"
      },
      "source": [
        "### Definition of the Fourier transform"
      ]
    },
    {
      "cell_type": "markdown",
      "metadata": {
        "id": "UP3ReufkwFID"
      },
      "source": [
        "The Fourier transform can be computed as\n",
        "\n",
        "\\begin{align*}\n",
        "\\mathcal F(v) = U\\cdot v, \\;\\;\\mathcal F^{-1}(v) = \\frac{1}{N}\\ U^H \\cdot v\n",
        "\\end{align*}\n",
        "\n",
        "where the $N\\times N$ matrix $U$ is defined as\n",
        "\\begin{align*}\n",
        "\\\\\n",
        "U = \n",
        "\\begin{bmatrix}\n",
        "u_0(0) & u_1(0) & \\dots & u_{N-1}(0)\\\\\n",
        "u_0(1) & u_1(1) & \\dots & u_{N-1}(1)\\\\\n",
        "\\vdots & \\vdots& & \\vdots\\\\\n",
        "u_0(N-1) & u_1(N-1) & \\dots & u_{N-1}(N-1)\\\\\n",
        "\\end{bmatrix} \n",
        "\\end{align*}\n",
        "\n",
        "and $u_0, \\dots, u_{N-1}$ are functions defined as\n",
        "\n",
        "\\begin{align*}\n",
        "u_n(x)&:= \\cos\\left(2 \\pi \\frac{n}{N} x\\right) - i \\sin\\left(2 \\pi \\frac{n}{N} x\\right).\n",
        "\\end{align*}"
      ]
    },
    {
      "cell_type": "code",
      "execution_count": null,
      "metadata": {
        "id": "DtNRh4knwFID"
      },
      "outputs": [],
      "source": [
        "def matrix_U(N):\n",
        "    u = lambda n, N: np.cos(2 * np.pi / N * n * np.arange(N)) - 1j * np.sin(2 * np.pi / N * n * np.arange(N))\n",
        "    U = np.empty((N, 0))\n",
        "    for n in range(N):\n",
        "        U = np.c_[U, u(n, N)]\n",
        "    return U\n",
        "\n",
        "\n",
        "def fourier_transform(v):\n",
        "    N = v.shape[0]\n",
        "    U = matrix_U(N)\n",
        "    return U @ v\n",
        "\n",
        "\n",
        "def inverse_fourier_transform(v):\n",
        "    N = v.shape[0]\n",
        "    U = matrix_U(N)\n",
        "    return (U.conj().transpose() @ v) / N"
      ]
    },
    {
      "cell_type": "code",
      "execution_count": null,
      "metadata": {
        "id": "WGODhD8PwFIE"
      },
      "outputs": [],
      "source": [
        "fft(v) - fourier_transform(v)"
      ]
    },
    {
      "cell_type": "code",
      "execution_count": null,
      "metadata": {
        "id": "5DJVOWrdwFIE"
      },
      "outputs": [],
      "source": [
        "ifft(v) - inverse_fourier_transform(v)"
      ]
    },
    {
      "cell_type": "markdown",
      "metadata": {
        "id": "IqMqEncWwFIE"
      },
      "source": [
        "### Connection with the Laplacian"
      ]
    },
    {
      "cell_type": "markdown",
      "metadata": {
        "id": "7DvpGu9zwFIE"
      },
      "source": [
        "The functions $u_n$ (the columns of the Fourier transform matrix) are eigenvectors of the Laplacian:\n",
        "\n",
        "\\begin{align*}\n",
        "u_n(x)&:= \\cos\\left(2 \\pi \\frac{n}{N} x\\right) - i \\sin\\left(2 \\pi \\frac{n}{N} x\\right)\\\\\n",
        "\\Delta u_n(x)&:= \\left(-4 \\pi ^ 2\\frac{n^2}{N^2}\\right) u_n(x)\n",
        "\\end{align*}"
      ]
    },
    {
      "cell_type": "markdown",
      "metadata": {
        "id": "ENowDzhVwFIE"
      },
      "source": [
        "### Summary"
      ]
    },
    {
      "cell_type": "markdown",
      "metadata": {
        "id": "tZDu3TjLwFIF"
      },
      "source": [
        "\\begin{align*}\n",
        "v * w \n",
        "= U^H ((U  w) \\odot (U  v))\n",
        "\\end{align*}\n",
        "\n",
        "or if $g_w=\\mbox{diag}(U w)$ is  filter\n",
        "\\begin{align*}\n",
        "v * w \n",
        "= U^H g_w U  w\n",
        "\\end{align*}"
      ]
    },
    {
      "cell_type": "code",
      "execution_count": null,
      "metadata": {
        "id": "bjuE076PwFIF"
      },
      "outputs": [],
      "source": [
        "U = matrix_U(N)\n",
        "np.abs((U.conj().transpose() / N) @ ((U @ v) * (U @ w)))"
      ]
    },
    {
      "cell_type": "code",
      "execution_count": null,
      "metadata": {
        "id": "exR7GSMOwFIF"
      },
      "outputs": [],
      "source": [
        "conv(v, w)"
      ]
    },
    {
      "cell_type": "markdown",
      "metadata": {
        "id": "1333YY-lwFIF"
      },
      "source": [
        "## Convolution on graphs"
      ]
    },
    {
      "cell_type": "markdown",
      "metadata": {
        "id": "_jeg8xFuwFIF"
      },
      "source": [
        "**Plan**:\n",
        "    - Define the graph Laplacian\n",
        "    - Compute the spectrum\n",
        "    - Define a Fourier transform\n",
        "    - Define convolution on a graph"
      ]
    },
    {
      "cell_type": "markdown",
      "metadata": {
        "id": "u83dNkO4wFIG"
      },
      "source": [
        "**Note:** From now on $G = (V, E)$ is an undirected, unweighted, simple graph."
      ]
    },
    {
      "cell_type": "markdown",
      "metadata": {
        "id": "xuthBSbIwFIG"
      },
      "source": [
        "### Graph Laplacian"
      ]
    },
    {
      "cell_type": "markdown",
      "metadata": {
        "id": "xxz_cvjJwFIG"
      },
      "source": [
        "Adjacency matrix\n",
        "\\begin{align*}\n",
        "A_{ij} = \\left\\{\n",
        "    \\begin{array}{ll}\n",
        "    1 &\\text{ if } e_{ij}\\in E\\\\\n",
        "    0 &\\text{ if } e_{ij}\\notin E\n",
        "    \\end{array}\n",
        "    \\right.\n",
        "\\end{align*}\n",
        "\n",
        "Degree matrix\n",
        "\\begin{align*}\n",
        "D_{ij} = \\left\\{\n",
        "    \\begin{array}{ll}\n",
        "    \\mbox{deg}(v_i) &\\text{ if } i=j\\\\\n",
        "    0 &\\text{ if } i\\neq j\n",
        "    \\end{array}\n",
        "    \\right.\n",
        "\\end{align*}\n",
        "\n",
        "Laplacian\n",
        "\\begin{align*}\n",
        "L &= D - A.\n",
        "\\end{align*}\n",
        "\n",
        "Normalized Laplacian\n",
        "\\begin{align*}\n",
        "L &= I - D^{-1/2} A D^{-1/2}.\n",
        "\\end{align*}"
      ]
    },
    {
      "cell_type": "markdown",
      "metadata": {
        "id": "kkraZL9WwFIG"
      },
      "source": [
        "### Graph spectrum, Fourier transform, and convolution"
      ]
    },
    {
      "cell_type": "markdown",
      "metadata": {
        "id": "9HRNTQnRwFIH"
      },
      "source": [
        "1. Spectral decomposition of the Laplacian:\n",
        "\\begin{align*}\n",
        "L = U \\Lambda U^T\\\\\n",
        "\\end{align*}\n",
        "\n",
        "\n",
        "2. Fourier transform: if $v$ is a vector of features on the graph, then\n",
        "\\begin{align*}\n",
        "\\mathcal F (v) = U \\cdot v, \\;\\;\\mathcal F^{-1} (v) = U^T \\cdot v\\\\\n",
        "\\end{align*}\n",
        "\n",
        "\n",
        "3. Convolution with a filter $U \\cdot w$\n",
        "\\begin{align*}\n",
        "v * w = U ((U^T  w) \\odot (U^T  v) )\n",
        "\\end{align*}\n",
        "\n",
        "\n",
        "Or $g_w = \\mbox{diag}(U^T w)$ is a filter, then\n",
        "\\begin{align*}\n",
        "v * w = U g_w U^T  v\n",
        "\\end{align*}\n"
      ]
    },
    {
      "cell_type": "markdown",
      "metadata": {
        "id": "RKpA2rHywFIH"
      },
      "source": [
        "## Spectral-convolutional layers in PyTorch Geometric"
      ]
    },
    {
      "cell_type": "markdown",
      "metadata": {
        "id": "f2iV72brwFIH"
      },
      "source": [
        "**Problem:** Computing the spectrum is a global and very expensive property.\n",
        "\n",
        "**Goal:** Implementation as message passing."
      ]
    },
    {
      "cell_type": "markdown",
      "metadata": {
        "id": "oooE98EowFIH"
      },
      "source": [
        "### ChebConv"
      ]
    },
    {
      "cell_type": "markdown",
      "metadata": {
        "id": "rlK9ibh0wFIH"
      },
      "source": [
        "- Original [paper](https://arxiv.org/pdf/1606.09375.pdf)\n",
        "- PyTorch [doc](https://pytorch-geometric.readthedocs.io/en/latest/modules/nn.html#torch_geometric.nn.conv.ChebConv)"
      ]
    },
    {
      "cell_type": "markdown",
      "metadata": {
        "id": "xfzOiKK8wFII"
      },
      "source": [
        "#### Goal: \n",
        "Compute $U g_w U^T x$ with $g_w = g_w(\\Lambda)$ a filter."
      ]
    },
    {
      "cell_type": "markdown",
      "metadata": {
        "id": "GISePWvnwFII"
      },
      "source": [
        "#### Chebyshev approximation\n",
        "\n",
        "Chebyshev polynomials $T_k$:\n",
        "\\begin{align*}\n",
        "T_{k}(x) = 2 x T_{k-1}(x) - T_{k-2}(x), \\;\\; T_0(x) = 1, T_1(x) = x\n",
        "\\end{align*}\n",
        "\n",
        "#### Chebyshev approximation of the filter\n",
        "Aproximation of the filter:\n",
        "\\begin{align*}\n",
        "g_w(\\Lambda) = \\sum_{k=0}^K \\theta_k T_k(\\tilde \\Lambda),\\;\\;\\;\\;\\tilde \\Lambda = \\frac{2}{\\lambda_\\max} \\Lambda - I\n",
        "\\end{align*}\n",
        "\n",
        "\n",
        "#### Property\n",
        "If $L = U \\Lambda U^T$ then $T_k(L) = U T_k(\\Lambda) U^T$.\n"
      ]
    },
    {
      "cell_type": "markdown",
      "metadata": {
        "id": "mCfEEYtKwFII"
      },
      "source": [
        "#### Fast approximated convolution \n",
        "\\begin{align*}\n",
        "v * w &= U g_w U^T x\n",
        "= U \\left(\\sum_{k=0}^K \\theta_k T_k(\\tilde \\Lambda) \\right)U^T x\n",
        "=\\sum_{k=0}^K  \\theta_k U  T_k(\\tilde \\Lambda) U^T x\\\\ \n",
        "&=\\sum_{k=0}^K  \\theta_k T_k(\\tilde L) x \n",
        "\\end{align*}\n",
        "\n",
        "\\begin{align*}\n",
        "\\tilde L = \\frac{2}{\\lambda_\\max} L - I\n",
        "\\end{align*}"
      ]
    },
    {
      "cell_type": "markdown",
      "metadata": {
        "id": "Y8WrqJ0jwFII"
      },
      "source": [
        "#### Properties:\n",
        "- Depends on $L$ and $\\lambda_\\max$, not on $U, \\Sigma$\n",
        "- Uses only $K$-powers $\\Rightarrow$ only the $K$-th neighborhood of each node, localized filter"
      ]
    },
    {
      "cell_type": "markdown",
      "metadata": {
        "id": "64EEuM6cwFII"
      },
      "source": [
        "**As message passing:**\n",
        "![](https://github.com/AntonioLonga/PytorchGeometricTutorial/blob/main/Tutorial4/fig/cheb_init.png?raw=1)\n",
        "\n",
        "![](https://github.com/AntonioLonga/PytorchGeometricTutorial/blob/main/Tutorial4/fig/cheb_norm.png?raw=1)\n",
        "\n",
        "![](https://github.com/AntonioLonga/PytorchGeometricTutorial/blob/main/Tutorial4/fig/cheb_forward.png?raw=1)\n",
        "\n",
        "![](https://github.com/AntonioLonga/PytorchGeometricTutorial/blob/main/Tutorial4/fig/cheb_message.png?raw=1)"
      ]
    },
    {
      "cell_type": "markdown",
      "metadata": {
        "id": "K6kvX8EpwFII"
      },
      "source": [
        "### GCNConv"
      ]
    },
    {
      "cell_type": "markdown",
      "metadata": {
        "id": "rv54L7TGwFIL"
      },
      "source": [
        "- Original [paper](https://arxiv.org/pdf/1609.02907.pdf)\n",
        "- PyTorch [doc](https://pytorch-geometric.readthedocs.io/en/latest/modules/nn.html#torch_geometric.nn.conv.GCNConv)"
      ]
    },
    {
      "cell_type": "markdown",
      "metadata": {
        "id": "caTHYqPkwFIL"
      },
      "source": [
        "Start from `ChebConv` and assume \n",
        "1. $K=1$ (linear approximation) so\n",
        "\\begin{align*}\n",
        "v * w \n",
        "&=\\sum_{k=0}^1  \\theta_k T_k(\\tilde L) x\n",
        "= \\theta_0 x + \\theta_1 \\tilde L x\\\\\n",
        "\\end{align*}\n",
        "\n",
        "2. $\\lambda_\\max =2$ so\n",
        "\\begin{align*}\n",
        "v * w \n",
        "&= \\theta_0 x + \\theta_1 (L - I) x\\\\\n",
        "&= \\theta_0 x - \\theta_1 D^{-1/2} A D^{1/2} x\\\\\n",
        "\\end{align*}\n",
        "\n",
        "\n",
        "3. $\\theta_0=-\\theta_1= \\theta$ so \n",
        "\\begin{align*}\n",
        "v * w = \\left(I + D^{-1/2} A D^{1/2}\\right) x \\theta\n",
        "\\end{align*}\n",
        "\n",
        "4. Renormalization of $\\theta$ by using \n",
        "\\begin{align*}\n",
        "\\tilde A&:= I + A\\\\\n",
        "\\tilde D_{ii}&:= \\sum_j \\tilde A_{ij}\n",
        "\\end{align*}\n",
        "so \n",
        "\\begin{align*}\n",
        "v * w = \\left(D^{-1/2} A D^{1/2}\\right) x \\theta\n",
        "\\end{align*}\n",
        "\n",
        "If $x$ is a $F$-dimensional feature vector, and we want an $F'$-dimensional feature vector as output:\n",
        "use $W'\\in \\mathbb{R}^{F\\times F'}$\n",
        "\\begin{align*}\n",
        "v * w = \\left(D^{-1/2} A D^{1/2}\\right) x \\Theta\n",
        "\\end{align*}\n"
      ]
    },
    {
      "cell_type": "markdown",
      "metadata": {
        "id": "vPErmiUlwFIL"
      },
      "source": [
        "Nodewise:\n",
        "    ![image.png](https://github.com/AntonioLonga/PytorchGeometricTutorial/blob/main/Tutorial4/fig/gcn_nodewise.png?raw=1)"
      ]
    },
    {
      "cell_type": "markdown",
      "metadata": {
        "id": "pBYjBZq-wFIL"
      },
      "source": [
        "#### As message passing\n",
        "See Tutorial3"
      ]
    }
  ],
  "metadata": {
    "kernelspec": {
      "display_name": "Python 3 (ipykernel)",
      "language": "python",
      "name": "python3"
    },
    "language_info": {
      "codemirror_mode": {
        "name": "ipython",
        "version": 3
      },
      "file_extension": ".py",
      "mimetype": "text/x-python",
      "name": "python",
      "nbconvert_exporter": "python",
      "pygments_lexer": "ipython3",
      "version": "3.9.7"
    },
    "colab": {
      "name": "Tutorial4.ipynb",
      "provenance": []
    }
  },
  "nbformat": 4,
  "nbformat_minor": 0
}